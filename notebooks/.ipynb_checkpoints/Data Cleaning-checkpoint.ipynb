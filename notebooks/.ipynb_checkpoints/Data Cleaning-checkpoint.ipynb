{
 "cells": [
  {
   "cell_type": "markdown",
   "id": "8cf62c7a-d832-4e95-baa9-d16708604e4b",
   "metadata": {},
   "source": [
    "## Real Estate Dataset - Data Cleaning and Preprocessing \n",
    "\n",
    " In this notebook, we focus on **data preparation**, **cleaning**, and **preprocessing** for the **Real Estate Dataset**, a popular dataset often used for classification tasks predicting how real estates are sold over a peroid of time here we only use three years from 2016 to 2019  based on asessed value,sales ratio and sales amount attributes.\n",
    "\n",
    "Good data preprocessing is crucial for reliable and interpretable results in machine learning and analytics workflows. Here, we address common data issues such as **missing values, duplicates,outliers and inconsistent categorical labels** while creating derived features to improve downstream analysis.\n",
    "\n",
    "\n",
    "We start by importing essential Python libraries for data handling and manipulation.\n",
    "\n",
    "- `pandas` for structured data operations.\n",
    "\n",
    "- `numpy` for numerical operations.\n",
    "\n",
    "- `os` for interacting with the operating system and directory structures."
   ]
  },
  {
   "cell_type": "code",
   "execution_count": 1,
   "id": "90acd4f3-5478-4c2f-92ac-5120e2515786",
   "metadata": {},
   "outputs": [],
   "source": [
    "import pandas as pd \n",
    "import numpy as np \n",
    "import os "
   ]
  },
  {
   "cell_type": "markdown",
   "id": "1ad4ad85-78e9-4b33-8845-a9f36296f075",
   "metadata": {},
   "source": [
    "## Define and Create Paths"
   ]
  },
  {
   "cell_type": "markdown",
   "id": "163003d9-9b95-4b12-b5dc-a453a3a19ff1",
   "metadata": {},
   "source": [
    "## Define and Create Paths\n",
    "To ensure reproducibility andorganized storage, we programmatically create directories for:\n",
    "\n",
    "- **raw data**\n",
    "- **processed data**\n",
    "- **results**\n",
    "- **documentation**\n",
    "\n",
    "These directories will store intermediate and final outputs for reproducibility.\n"
   ]
  },
  {
   "cell_type": "code",
   "execution_count": 2,
   "id": "a1e3d3be-589d-45b8-b718-03db0bc54850",
   "metadata": {},
   "outputs": [],
   "source": [
    "# Get working directory \n",
    "current_dir = os.getcwd()\n",
    "\n",
    "# Go one directory up to the root directory \n",
    "project_root_dir = os.path.dirname(current_dir)\n",
    "\n",
    "data_dir = os.path.join(project_root_dir, 'data')\n",
    "raw_dir = os.path.join(data_dir,'raw')\n",
    "processed_dir = os.path.join(data_dir,'processed')\n",
    "\n",
    "# Define paths to results folder \n",
    "results_dir = os.path.join(project_root_dir,'results')\n",
    "\n",
    "# Define paths to docs folder \n",
    "docs_dir = os.path.join(project_root_dir,'docs') \n",
    "\n",
    "#Create directories if they do not exist \n",
    "os.makedirs(raw_dir,exist_ok= True)\n",
    "os.makedirs(processed_dir,exist_ok= True)\n",
    "os.makedirs(results_dir,exist_ok= True)\n",
    "os.makedirs(data_dir,exist_ok= True)"
   ]
  },
  {
   "cell_type": "markdown",
   "id": "08af6723-bc48-41ab-a656-20fd5a02800e",
   "metadata": {},
   "source": [
    " ## Read in the data"
   ]
  },
  {
   "cell_type": "markdown",
   "id": "0d2f5daa-2f2e-4b7a-9433-b5e0568622e2",
   "metadata": {},
   "source": [
    " ## Read in the data\n",
    " We load the **Real Estate dataset** as a CSV file.\n",
    "\n",
    "Key considerations here are:\n",
    "\n",
    "- **Outlier Removal:** To improve the reliability of our analysis, we identified and removed outliers using the Interquartile Range (IQR) method. This was applied to key numerical columns such as **Sale Amount, Sales Ratio, and Assessed Value** to eliminate extreme values that could distort the results.\n",
    "- We use `skipinitialspace = True` to remove extra spaces after delimeters which is common in text-based datasets.\n",
    "\n",
    "After loading, we inspect the first few rows.\n"
   ]
  },
  {
   "cell_type": "code",
   "execution_count": 5,
   "id": "6e43c662-6f59-4893-95f6-0961e34de14f",
   "metadata": {},
   "outputs": [
    {
     "data": {
      "text/html": [
       "<div>\n",
       "<style scoped>\n",
       "    .dataframe tbody tr th:only-of-type {\n",
       "        vertical-align: middle;\n",
       "    }\n",
       "\n",
       "    .dataframe tbody tr th {\n",
       "        vertical-align: top;\n",
       "    }\n",
       "\n",
       "    .dataframe thead th {\n",
       "        text-align: right;\n",
       "    }\n",
       "</style>\n",
       "<table border=\"1\" class=\"dataframe\">\n",
       "  <thead>\n",
       "    <tr style=\"text-align: right;\">\n",
       "      <th></th>\n",
       "      <th>Serial Number</th>\n",
       "      <th>List Year</th>\n",
       "      <th>Date Recorded</th>\n",
       "      <th>Town</th>\n",
       "      <th>Address</th>\n",
       "      <th>Assessed Value</th>\n",
       "      <th>Sale Amount</th>\n",
       "      <th>Sales Ratio</th>\n",
       "      <th>Property Type</th>\n",
       "      <th>Residential Type</th>\n",
       "    </tr>\n",
       "  </thead>\n",
       "  <tbody>\n",
       "    <tr>\n",
       "      <th>0</th>\n",
       "      <td>160091</td>\n",
       "      <td>2016</td>\n",
       "      <td>12/23/2016</td>\n",
       "      <td>Avon</td>\n",
       "      <td>2 EDGEWOOD</td>\n",
       "      <td>143390</td>\n",
       "      <td>224000.0</td>\n",
       "      <td>0.640134</td>\n",
       "      <td>Condo</td>\n",
       "      <td>Condo</td>\n",
       "    </tr>\n",
       "    <tr>\n",
       "      <th>1</th>\n",
       "      <td>160172</td>\n",
       "      <td>2016</td>\n",
       "      <td>4/13/2017</td>\n",
       "      <td>Bethel</td>\n",
       "      <td>66 H NASHVILLE ROAD</td>\n",
       "      <td>80500</td>\n",
       "      <td>130000.0</td>\n",
       "      <td>0.619231</td>\n",
       "      <td>Condo</td>\n",
       "      <td>Condo</td>\n",
       "    </tr>\n",
       "    <tr>\n",
       "      <th>2</th>\n",
       "      <td>160258</td>\n",
       "      <td>2016</td>\n",
       "      <td>6/29/2017</td>\n",
       "      <td>Bethel</td>\n",
       "      <td>1 EAGLE ROCK HILL</td>\n",
       "      <td>117180</td>\n",
       "      <td>200000.0</td>\n",
       "      <td>0.585900</td>\n",
       "      <td>Condo</td>\n",
       "      <td>Condo</td>\n",
       "    </tr>\n",
       "    <tr>\n",
       "      <th>3</th>\n",
       "      <td>16233</td>\n",
       "      <td>2016</td>\n",
       "      <td>6/9/2017</td>\n",
       "      <td>Darien</td>\n",
       "      <td>54 KENSETT LANE</td>\n",
       "      <td>887600</td>\n",
       "      <td>1495000.0</td>\n",
       "      <td>0.593712</td>\n",
       "      <td>Condo</td>\n",
       "      <td>Condo</td>\n",
       "    </tr>\n",
       "    <tr>\n",
       "      <th>4</th>\n",
       "      <td>1600249</td>\n",
       "      <td>2016</td>\n",
       "      <td>5/12/2017</td>\n",
       "      <td>Guilford</td>\n",
       "      <td>66-10 HIGH ST</td>\n",
       "      <td>409250</td>\n",
       "      <td>665000.0</td>\n",
       "      <td>0.615414</td>\n",
       "      <td>Condo</td>\n",
       "      <td>Condo</td>\n",
       "    </tr>\n",
       "    <tr>\n",
       "      <th>5</th>\n",
       "      <td>160103</td>\n",
       "      <td>2016</td>\n",
       "      <td>11/30/2016</td>\n",
       "      <td>Branford</td>\n",
       "      <td>137 PEDDLARS DR</td>\n",
       "      <td>106700</td>\n",
       "      <td>155000.0</td>\n",
       "      <td>0.688387</td>\n",
       "      <td>Condo</td>\n",
       "      <td>Condo</td>\n",
       "    </tr>\n",
       "    <tr>\n",
       "      <th>6</th>\n",
       "      <td>167930</td>\n",
       "      <td>2016</td>\n",
       "      <td>9/27/2017</td>\n",
       "      <td>Bridgeport</td>\n",
       "      <td>95 LANCE CIR</td>\n",
       "      <td>105820</td>\n",
       "      <td>148000.0</td>\n",
       "      <td>0.715000</td>\n",
       "      <td>Condo</td>\n",
       "      <td>Condo</td>\n",
       "    </tr>\n",
       "    <tr>\n",
       "      <th>7</th>\n",
       "      <td>16533</td>\n",
       "      <td>2016</td>\n",
       "      <td>8/3/2017</td>\n",
       "      <td>Newington</td>\n",
       "      <td>239 STERLING DR</td>\n",
       "      <td>238150</td>\n",
       "      <td>331100.0</td>\n",
       "      <td>0.719269</td>\n",
       "      <td>Condo</td>\n",
       "      <td>Condo</td>\n",
       "    </tr>\n",
       "    <tr>\n",
       "      <th>8</th>\n",
       "      <td>16005</td>\n",
       "      <td>2016</td>\n",
       "      <td>10/11/2016</td>\n",
       "      <td>Durham</td>\n",
       "      <td>83 STAGECOACH RD</td>\n",
       "      <td>114590</td>\n",
       "      <td>160000.0</td>\n",
       "      <td>0.716187</td>\n",
       "      <td>Condo</td>\n",
       "      <td>Condo</td>\n",
       "    </tr>\n",
       "    <tr>\n",
       "      <th>9</th>\n",
       "      <td>160239</td>\n",
       "      <td>2016</td>\n",
       "      <td>6/9/2017</td>\n",
       "      <td>New Canaan</td>\n",
       "      <td>29 MAPLE ST #3</td>\n",
       "      <td>388640</td>\n",
       "      <td>436000.0</td>\n",
       "      <td>0.891376</td>\n",
       "      <td>Condo</td>\n",
       "      <td>Condo</td>\n",
       "    </tr>\n",
       "  </tbody>\n",
       "</table>\n",
       "</div>"
      ],
      "text/plain": [
       "   Serial Number  List Year Date Recorded        Town              Address  \\\n",
       "0         160091       2016    12/23/2016        Avon           2 EDGEWOOD   \n",
       "1         160172       2016     4/13/2017      Bethel  66 H NASHVILLE ROAD   \n",
       "2         160258       2016     6/29/2017      Bethel    1 EAGLE ROCK HILL   \n",
       "3          16233       2016      6/9/2017      Darien      54 KENSETT LANE   \n",
       "4        1600249       2016     5/12/2017    Guilford        66-10 HIGH ST   \n",
       "5         160103       2016    11/30/2016    Branford      137 PEDDLARS DR   \n",
       "6         167930       2016     9/27/2017  Bridgeport         95 LANCE CIR   \n",
       "7          16533       2016      8/3/2017   Newington      239 STERLING DR   \n",
       "8          16005       2016    10/11/2016      Durham     83 STAGECOACH RD   \n",
       "9         160239       2016      6/9/2017  New Canaan       29 MAPLE ST #3   \n",
       "\n",
       "   Assessed Value  Sale Amount  Sales Ratio Property Type Residential Type  \n",
       "0          143390     224000.0     0.640134         Condo            Condo  \n",
       "1           80500     130000.0     0.619231         Condo            Condo  \n",
       "2          117180     200000.0     0.585900         Condo            Condo  \n",
       "3          887600    1495000.0     0.593712         Condo            Condo  \n",
       "4          409250     665000.0     0.615414         Condo            Condo  \n",
       "5          106700     155000.0     0.688387         Condo            Condo  \n",
       "6          105820     148000.0     0.715000         Condo            Condo  \n",
       "7          238150     331100.0     0.719269         Condo            Condo  \n",
       "8          114590     160000.0     0.716187         Condo            Condo  \n",
       "9          388640     436000.0     0.891376         Condo            Condo  "
      ]
     },
     "execution_count": 5,
     "metadata": {},
     "output_type": "execute_result"
    }
   ],
   "source": [
    "real_estate_filename = os.path.join(raw_dir, 'Real_Estate_Sales_2016-2019_GL.csv')\n",
    "real_estate = pd.read_csv(real_estate_filename,low_memory=False, skipinitialspace= True)\n",
    "# Reading dataset with its header\n",
    "real_estate.head(10)"
   ]
  },
  {
   "cell_type": "markdown",
   "id": "d36e7323-abfc-4885-b0b0-d9441a65a55e",
   "metadata": {},
   "source": [
    "We also inspect the dataset's shape. We see that the data has *183,278* rows and *10* columns, before removing outliers and it now has *143,967* rows and *10* columns after removing outliers"
   ]
  },
  {
   "cell_type": "code",
   "execution_count": 16,
   "id": "bc5980c4-ac65-4298-93bd-3a11e099ced4",
   "metadata": {},
   "outputs": [
    {
     "data": {
      "text/plain": [
       "(143967, 10)"
      ]
     },
     "execution_count": 16,
     "metadata": {},
     "output_type": "execute_result"
    }
   ],
   "source": [
    "real_estate.shape"
   ]
  },
  {
   "cell_type": "markdown",
   "id": "6ec1ca4a-325b-43a3-88e5-14c607deb439",
   "metadata": {},
   "source": [
    "In addition, we check the data types using `.info`"
   ]
  },
  {
   "cell_type": "code",
   "execution_count": 17,
   "id": "27961bfa-5f87-427a-9caa-51afe01bc3b7",
   "metadata": {},
   "outputs": [
    {
     "name": "stdout",
     "output_type": "stream",
     "text": [
      "<class 'pandas.core.frame.DataFrame'>\n",
      "Index: 143967 entries, 0 to 183275\n",
      "Data columns (total 10 columns):\n",
      " #   Column            Non-Null Count   Dtype  \n",
      "---  ------            --------------   -----  \n",
      " 0   Serial Number     143967 non-null  int64  \n",
      " 1   List Year         143967 non-null  int64  \n",
      " 2   Date Recorded     143967 non-null  object \n",
      " 3   Town              143967 non-null  object \n",
      " 4   Address           143964 non-null  object \n",
      " 5   Assessed Value    143967 non-null  int64  \n",
      " 6   Sale Amount       143967 non-null  float64\n",
      " 7   Sales Ratio       143967 non-null  float64\n",
      " 8   Property Type     143967 non-null  object \n",
      " 9   Residential Type  143967 non-null  object \n",
      "dtypes: float64(2), int64(3), object(5)\n",
      "memory usage: 12.1+ MB\n"
     ]
    }
   ],
   "source": [
    "real_estate.info()"
   ]
  },
  {
   "cell_type": "code",
   "execution_count": 18,
   "id": "4689d472-3aff-412d-923a-2ce44a611771",
   "metadata": {},
   "outputs": [
    {
     "data": {
      "text/plain": [
       "Index(['Serial Number', 'List Year', 'Date Recorded', 'Town', 'Address',\n",
       "       'Assessed Value', 'Sale Amount', 'Sales Ratio', 'Property Type',\n",
       "       'Residential Type'],\n",
       "      dtype='object')"
      ]
     },
     "execution_count": 18,
     "metadata": {},
     "output_type": "execute_result"
    }
   ],
   "source": [
    "real_estate.columns"
   ]
  },
  {
   "cell_type": "markdown",
   "id": "32871e74-3f5b-4cfb-b892-a95a68a83300",
   "metadata": {},
   "source": [
    "By removing the outliers"
   ]
  },
  {
   "cell_type": "code",
   "execution_count": 9,
   "id": "d09dcf91-b9a9-4a98-8ef0-19b97cd0e0ed",
   "metadata": {},
   "outputs": [],
   "source": [
    "def remove_outliers_iqr(df, column):\n",
    "    Q1 = df[column].quantile(0.25)\n",
    "    Q3 = df[column].quantile(0.75)\n",
    "    IQR = Q3 - Q1\n",
    "    lower_bound = Q1 - 1.5 * IQR\n",
    "    upper_bound = Q3 + 1.5 * IQR\n",
    "    return df[(df[column] >= lower_bound) & (df[column] <= upper_bound)]\n"
   ]
  },
  {
   "cell_type": "code",
   "execution_count": 10,
   "id": "cc6989be-834e-4bb5-997f-32d756c96fc7",
   "metadata": {},
   "outputs": [],
   "source": [
    "\n",
    "real_estate = remove_outliers_iqr(real_estate, 'Sale Amount')\n",
    "real_estate = remove_outliers_iqr(real_estate, 'Sales Ratio')\n",
    "real_estate = remove_outliers_iqr(real_estate, 'Assessed Value')\n"
   ]
  },
  {
   "cell_type": "markdown",
   "id": "8e3cb810-aa14-4731-a9f3-21af2ba6c0fe",
   "metadata": {},
   "source": [
    "Finally we check for the total rows after removing the outliers"
   ]
  },
  {
   "cell_type": "code",
   "execution_count": 19,
   "id": "b7cf0e02-7a79-4f55-938e-696a318eebe8",
   "metadata": {},
   "outputs": [
    {
     "name": "stdout",
     "output_type": "stream",
     "text": [
      "Original: 143967\n",
      "After removing Sale Amount outliers: 141874\n"
     ]
    }
   ],
   "source": [
    "print(\"Original:\", len(real_estate))\n",
    "print(\"After removing Sale Amount outliers:\", len(remove_outliers_iqr(real_estate, 'Sale Amount')))\n"
   ]
  },
  {
   "cell_type": "markdown",
   "id": "e25eb60d-6122-4048-910d-aa25f63911d5",
   "metadata": {},
   "source": [
    "## Understanding the Dataset\n",
    "\n",
    "Before proceeding with the cleaning, we would like to understanding the variables deeply. This would help guide the cleaning process. The subsequent tables detail the types, meaning and values or ranges of the variables in the dataset.\n"
   ]
  },
  {
   "cell_type": "markdown",
   "id": "a9a50669-52d8-42e9-8aca-5355794df838",
   "metadata": {},
   "source": [
    "After removing the outliers we now check for unique values in each column"
   ]
  },
  {
   "cell_type": "code",
   "execution_count": 20,
   "id": "c0f0783a-211e-4513-a6c9-e8f01e5e9e5f",
   "metadata": {},
   "outputs": [
    {
     "name": "stdout",
     "output_type": "stream",
     "text": [
      "Unique values in 'Serial Number': [      161       162       163 ... 190700025 190700026 192000007]\n",
      "\n",
      "Unique values in 'List Year': [2016 2017 2018 2019]\n",
      "\n",
      "Unique values in 'Date Recorded': ['1/1/2018' '1/1/2019' '1/10/2017' ... '9/9/2018' '9/9/2019' '9/9/2020']\n",
      "\n",
      "Unique values in 'Town': ['Andover' 'Ansonia' 'Ashford' 'Avon' 'Barkhamsted' 'Beacon Falls'\n",
      " 'Berlin' 'Bethany' 'Bethel' 'Bethlehem' 'Bloomfield' 'Bolton' 'Bozrah'\n",
      " 'Branford' 'Bridgeport' 'Bridgewater' 'Bristol' 'Brookfield' 'Brooklyn'\n",
      " 'Burlington' 'Canaan' 'Canterbury' 'Canton' 'Chaplin' 'Cheshire'\n",
      " 'Chester' 'Clinton' 'Colchester' 'Colebrook' 'Columbia' 'Cornwall'\n",
      " 'Coventry' 'Cromwell' 'Danbury' 'Darien' 'Deep River' 'Derby' 'Durham'\n",
      " 'East Granby' 'East Haddam' 'East Hampton' 'East Hartford' 'East Haven'\n",
      " 'East Lyme' 'East Windsor' 'Eastford' 'Easton' 'Ellington' 'Enfield'\n",
      " 'Essex' 'Fairfield' 'Farmington' 'Franklin' 'Glastonbury' 'Goshen'\n",
      " 'Granby' 'Greenwich' 'Griswold' 'Groton' 'Guilford' 'Haddam' 'Hamden'\n",
      " 'Hampton' 'Hartford' 'Hartland' 'Harwinton' 'Hebron' 'Kent' 'Killingly'\n",
      " 'Killingworth' 'Lebanon' 'Ledyard' 'Lisbon' 'Litchfield' 'Lyme' 'Madison'\n",
      " 'Manchester' 'Mansfield' 'Marlborough' 'Meriden' 'Middlebury'\n",
      " 'Middlefield' 'Middletown' 'Milford' 'Monroe' 'Montville' 'Morris'\n",
      " 'Naugatuck' 'New Britain' 'New Canaan' 'New Fairfield' 'New Hartford'\n",
      " 'New Haven' 'New London' 'New Milford' 'Newington' 'Newtown' 'Norfolk'\n",
      " 'North Branford' 'North Canaan' 'North Haven' 'North Stonington'\n",
      " 'Norwalk' 'Norwich' 'Old Lyme' 'Old Saybrook' 'Orange' 'Oxford'\n",
      " 'Plainfield' 'Plainville' 'Plymouth' 'Pomfret' 'Portland' 'Preston'\n",
      " 'Prospect' 'Putnam' 'Redding' 'Ridgefield' 'Rocky Hill' 'Roxbury' 'Salem'\n",
      " 'Salisbury' 'Scotland' 'Seymour' 'Sharon' 'Shelton' 'Sherman' 'Simsbury'\n",
      " 'Somers' 'South Windsor' 'Southbury' 'Southington' 'Sprague' 'Stafford'\n",
      " 'Stamford' 'Sterling' 'Stonington' 'Stratford' 'Suffield' 'Thomaston'\n",
      " 'Thompson' 'Tolland' 'Torrington' 'Trumbull' 'Union' 'Vernon' 'Voluntown'\n",
      " 'Wallingford' 'Warren' 'Washington' 'Waterbury' 'Waterford' 'Watertown'\n",
      " 'West Hartford' 'West Haven' 'Westbrook' 'Weston' 'Westport'\n",
      " 'Wethersfield' 'Willington' 'Wilton' 'Winchester' 'Windham' 'Windsor'\n",
      " 'Windsor Locks' 'Wolcott' 'Woodbridge' 'Woodbury' 'Woodstock']\n",
      "\n",
      "Unique values in 'Address': ['#27 DUCK ISLAND YACHT CLUB' '0 ALDEN STREET UNIT A' '0 BAYBERRY LANE'\n",
      " ... 'Y05 SYLVAN POINT YACHT SLIP' 'Z-97 CROSSROADS LN' 'nan']\n",
      "\n",
      "Unique values in 'Assessed Value': [  1680   1715   2100 ... 380340 380350 380370]\n",
      "\n",
      "Unique values in 'Sale Amount': [  2000.   2936.   3400. ... 682500. 683000. 684000.]\n",
      "\n",
      "Unique values in 'Sales Ratio': [0.29837209 0.2984     0.2985     ... 1.07853846 1.0786     1.07861386]\n",
      "\n",
      "Unique values in 'Property Type': ['Condo' 'Four Family' 'Single Family' 'Three Family' 'Two Family']\n",
      "\n",
      "Unique values in 'Residential Type': ['Condo' 'Four Family' 'Single Family' 'Three Family' 'Two Family']\n",
      "\n"
     ]
    }
   ],
   "source": [
    "for col in real_estate.columns:\n",
    "    uniques = np.unique(real_estate[col].to_list())\n",
    "    print(f\"Unique values in '{col}': {uniques}\\n\")\n"
   ]
  },
  {
   "cell_type": "markdown",
   "id": "98142cb8-dd2d-4d9c-99ce-9536a19ec0be",
   "metadata": {},
   "source": [
    "\n",
    "### **Table 1: Summary of Numeric Variables**\n",
    "| Variable         | Description                                   | Values / Range (excluding NaN)           |\r\n",
    "|------------------|-----------------------------------------------|------------------------------------------|\r\n",
    "| Serial Number    | Unique identifier for each property listing   | From 161 to 192000007                    |\r\n",
    "| List Year        | Year the property was listed                  | 2016 – 2019                              |\r\n",
    "| Assessed Value   | Government-estimated property value           | 1,680 – 380,370                          |\r\n",
    "| Sale Amount      | Final sale price of the property              | 2,000 – 684,000 (after removing outliers)|\r\n",
    "| Sales Ratio      | Sale Amount divided by Assessed Value         | ~0.29 – 1.07                         \n",
    "### **Table 2: Categorical Variables Table**\n",
    "| Variable             | Description                                              | Unique Values or Notes                         |\r\n",
    "|----------------------|----------------------------------------------------------|------------------------------------------------|\r\n",
    "| Date Recorded        | Date the transaction was officially recorded             | Dates from 2016 to 2020                        |\r\n",
    "| Town                 | Town or city where the property is located               | 169 unique towns (e.g., Hartford)              |\r\n",
    "| Address              | Street address of the property                           | Various values (some missing or 'nan')         |\r\n",
    "| Property Type        | General classification of the property                   | Residential                                    |\r\n",
    "| Residential Category | Sub-type of residential property structure               | Condo, Single Family, Two Family, etc.   |        |\r\n",
    "    |\r\n"
   ]
  },
  {
   "cell_type": "markdown",
   "id": "e7ce8306-f696-4bf2-9569-a082fe1e9ecb",
   "metadata": {
    "jp-MarkdownHeadingCollapsed": true
   },
   "source": [
    "\n",
    "This dataset contains records of residential property sales, including details such as location, assessed value, sale amount, and property type. The data can be used to analyze property values, sale prices, and sales ratios across different towns and residential property types.\n",
    "- Serial Number: represents  the unique number for each recorded property\n",
    "- List Year: Represents the period of recording as we know it is for 3 years 2016-2019\n",
    "- Date Recorded: this represents the actual date that a transaction took place\n",
    "- Town: represents a specific towm in USA\n",
    "- Address: uniquely identifies property location\n",
    "- Assessed Value : The value estimated for tax or official purposes\n",
    "- Sale Amount: The actual price the property was sold for\n",
    "- Sales Ratio: The ratio of assessed value to sale amount\n",
    "- Property Type:  Indicates the property is residential\n",
    "-  Residential Type: The type of residential property (e.g. single-family, condo) "
   ]
  },
  {
   "cell_type": "markdown",
   "id": "0ec118a2-c723-4319-b441-c011446a9eec",
   "metadata": {},
   "source": [
    "### 2. Dealing with Missing Values"
   ]
  },
  {
   "cell_type": "markdown",
   "id": "6b4457a5-8a48-41aa-af32-3b38fa9d1962",
   "metadata": {},
   "source": [
    "Using `.isnull().sum()`, we identify columns with missing values. They are:\n",
    "\n",
    "- `address` with 3 missing values\n",
    "We address these by:\n",
    "\n",
    "- Imputing categorical missing values with `Unknown` for the columns `address`\n",
    "\n",
    "This has been done to preserve data consistency while acknowledging uncertainity.\n",
    "We inspect one more time to ensure we don't have any missing values.\n"
   ]
  },
  {
   "cell_type": "code",
   "execution_count": 27,
   "id": "83e66b82-1706-4089-8001-b22ac16ac55a",
   "metadata": {},
   "outputs": [
    {
     "data": {
      "text/plain": [
       "Serial Number       0\n",
       "List Year           0\n",
       "Date Recorded       0\n",
       "Town                0\n",
       "Address             3\n",
       "Assessed Value      0\n",
       "Sale Amount         0\n",
       "Sales Ratio         0\n",
       "Property Type       0\n",
       "Residential Type    0\n",
       "dtype: int64"
      ]
     },
     "execution_count": 27,
     "metadata": {},
     "output_type": "execute_result"
    }
   ],
   "source": [
    "real_estate.isnull().sum()"
   ]
  },
  {
   "cell_type": "code",
   "execution_count": 29,
   "id": "16ea5cea-c1fb-490d-b0f0-5b797296108d",
   "metadata": {},
   "outputs": [],
   "source": [
    "real_estate['Address'] = real_estate['Address'].fillna('unknown')"
   ]
  },
  {
   "cell_type": "code",
   "execution_count": 30,
   "id": "55567c68-d2c6-41e8-b2ac-585e750c524a",
   "metadata": {},
   "outputs": [
    {
     "data": {
      "text/plain": [
       "Serial Number       0\n",
       "List Year           0\n",
       "Date Recorded       0\n",
       "Town                0\n",
       "Address             0\n",
       "Assessed Value      0\n",
       "Sale Amount         0\n",
       "Sales Ratio         0\n",
       "Property Type       0\n",
       "Residential Type    0\n",
       "dtype: int64"
      ]
     },
     "execution_count": 30,
     "metadata": {},
     "output_type": "execute_result"
    }
   ],
   "source": [
    "real_estate.isnull().sum()"
   ]
  },
  {
   "cell_type": "markdown",
   "id": "a3f9ebf3-74d4-4a4a-a96e-65ced423e991",
   "metadata": {},
   "source": [
    "### 3. Deal with Duplicates\n",
    "Duplicates can distort statistical summaries and model performance. Using `.duplicated().sum()`, we count duplicate records.\n",
    "\n",
    "\n",
    "We then inspect the duplicated records.\n"
   ]
  },
  {
   "cell_type": "code",
   "execution_count": 31,
   "id": "86fc267f-742f-4418-8074-1932e01d279a",
   "metadata": {},
   "outputs": [
    {
     "data": {
      "text/plain": [
       "0"
      ]
     },
     "execution_count": 31,
     "metadata": {},
     "output_type": "execute_result"
    }
   ],
   "source": [
    "real_estate.duplicated().sum()"
   ]
  },
  {
   "cell_type": "markdown",
   "id": "075e3713-949e-4fc3-8e42-b43324760be9",
   "metadata": {},
   "source": [
    "### 4. Standardize Categorical Variables\n",
    "**Remove any leading or trailing spaces and convert the strings to lowercase**\n",
    "\n",
    "To prepare categorical variables for consistent processing, we first of all remove extra spaces and convert them to lowercase. This step ensures categorical variables are clean and consistently organized.\n"
   ]
  },
  {
   "cell_type": "code",
   "execution_count": 33,
   "id": "d0849fe0-bb22-4fcb-9b5d-76e2375aa4e1",
   "metadata": {},
   "outputs": [
    {
     "data": {
      "text/plain": [
       "array(['Condo', 'Single Family', 'Two Family', 'Three Family',\n",
       "       'Four Family'], dtype=object)"
      ]
     },
     "execution_count": 33,
     "metadata": {},
     "output_type": "execute_result"
    }
   ],
   "source": [
    "real_estate['Residential Type'].unique()"
   ]
  },
  {
   "cell_type": "code",
   "execution_count": 34,
   "id": "923f8b29-bc49-49ba-9b12-9c82382d1ee0",
   "metadata": {},
   "outputs": [],
   "source": [
    "real_estate['Residential Type'] = real_estate['Residential Type'].replace({\n",
    "    'Condo': 'appartments',\n",
    "    'Single Family': 'single-residence',\n",
    "    'Two Family': 'duplex-residence',\n",
    "    'Three Family': 'triplex-residence',\n",
    "    'Four Family': 'quadplex-residence'\n",
    "     \n",
    "})"
   ]
  },
  {
   "cell_type": "code",
   "execution_count": 36,
   "id": "1797bb3c-f68e-492c-a0e5-c794e22aaffd",
   "metadata": {},
   "outputs": [
    {
     "data": {
      "text/plain": [
       "array(['appartments', 'single-residence', 'duplex-residence',\n",
       "       'triplex-residence', 'quadplex-residence'], dtype=object)"
      ]
     },
     "execution_count": 36,
     "metadata": {},
     "output_type": "execute_result"
    }
   ],
   "source": [
    "real_estate['Residential Type'].unique()\n"
   ]
  },
  {
   "cell_type": "code",
   "execution_count": 37,
   "id": "4a380dd1-b3f3-47db-a986-9dc2b05c269a",
   "metadata": {},
   "outputs": [
    {
     "data": {
      "text/html": [
       "<div>\n",
       "<style scoped>\n",
       "    .dataframe tbody tr th:only-of-type {\n",
       "        vertical-align: middle;\n",
       "    }\n",
       "\n",
       "    .dataframe tbody tr th {\n",
       "        vertical-align: top;\n",
       "    }\n",
       "\n",
       "    .dataframe thead th {\n",
       "        text-align: right;\n",
       "    }\n",
       "</style>\n",
       "<table border=\"1\" class=\"dataframe\">\n",
       "  <thead>\n",
       "    <tr style=\"text-align: right;\">\n",
       "      <th></th>\n",
       "      <th>Serial Number</th>\n",
       "      <th>List Year</th>\n",
       "      <th>Date Recorded</th>\n",
       "      <th>Town</th>\n",
       "      <th>Address</th>\n",
       "      <th>Assessed Value</th>\n",
       "      <th>Sale Amount</th>\n",
       "      <th>Sales Ratio</th>\n",
       "      <th>Property Type</th>\n",
       "      <th>Residential Type</th>\n",
       "    </tr>\n",
       "  </thead>\n",
       "  <tbody>\n",
       "    <tr>\n",
       "      <th>0</th>\n",
       "      <td>160091</td>\n",
       "      <td>2016</td>\n",
       "      <td>12/23/2016</td>\n",
       "      <td>Avon</td>\n",
       "      <td>2 EDGEWOOD</td>\n",
       "      <td>143390</td>\n",
       "      <td>224000.0</td>\n",
       "      <td>0.640134</td>\n",
       "      <td>Condo</td>\n",
       "      <td>appartments</td>\n",
       "    </tr>\n",
       "    <tr>\n",
       "      <th>1</th>\n",
       "      <td>160172</td>\n",
       "      <td>2016</td>\n",
       "      <td>4/13/2017</td>\n",
       "      <td>Bethel</td>\n",
       "      <td>66 H NASHVILLE ROAD</td>\n",
       "      <td>80500</td>\n",
       "      <td>130000.0</td>\n",
       "      <td>0.619231</td>\n",
       "      <td>Condo</td>\n",
       "      <td>appartments</td>\n",
       "    </tr>\n",
       "    <tr>\n",
       "      <th>2</th>\n",
       "      <td>160258</td>\n",
       "      <td>2016</td>\n",
       "      <td>6/29/2017</td>\n",
       "      <td>Bethel</td>\n",
       "      <td>1 EAGLE ROCK HILL</td>\n",
       "      <td>117180</td>\n",
       "      <td>200000.0</td>\n",
       "      <td>0.585900</td>\n",
       "      <td>Condo</td>\n",
       "      <td>appartments</td>\n",
       "    </tr>\n",
       "    <tr>\n",
       "      <th>5</th>\n",
       "      <td>160103</td>\n",
       "      <td>2016</td>\n",
       "      <td>11/30/2016</td>\n",
       "      <td>Branford</td>\n",
       "      <td>137 PEDDLARS DR</td>\n",
       "      <td>106700</td>\n",
       "      <td>155000.0</td>\n",
       "      <td>0.688387</td>\n",
       "      <td>Condo</td>\n",
       "      <td>appartments</td>\n",
       "    </tr>\n",
       "    <tr>\n",
       "      <th>6</th>\n",
       "      <td>167930</td>\n",
       "      <td>2016</td>\n",
       "      <td>9/27/2017</td>\n",
       "      <td>Bridgeport</td>\n",
       "      <td>95 LANCE CIR</td>\n",
       "      <td>105820</td>\n",
       "      <td>148000.0</td>\n",
       "      <td>0.715000</td>\n",
       "      <td>Condo</td>\n",
       "      <td>appartments</td>\n",
       "    </tr>\n",
       "    <tr>\n",
       "      <th>...</th>\n",
       "      <td>...</td>\n",
       "      <td>...</td>\n",
       "      <td>...</td>\n",
       "      <td>...</td>\n",
       "      <td>...</td>\n",
       "      <td>...</td>\n",
       "      <td>...</td>\n",
       "      <td>...</td>\n",
       "      <td>...</td>\n",
       "      <td>...</td>\n",
       "    </tr>\n",
       "    <tr>\n",
       "      <th>183270</th>\n",
       "      <td>190120</td>\n",
       "      <td>2019</td>\n",
       "      <td>4/28/2020</td>\n",
       "      <td>Rocky Hill</td>\n",
       "      <td>174 VALLEY CREST DRIVE</td>\n",
       "      <td>174650</td>\n",
       "      <td>242000.0</td>\n",
       "      <td>0.721700</td>\n",
       "      <td>Single Family</td>\n",
       "      <td>single-residence</td>\n",
       "    </tr>\n",
       "    <tr>\n",
       "      <th>183271</th>\n",
       "      <td>190460</td>\n",
       "      <td>2019</td>\n",
       "      <td>8/17/2020</td>\n",
       "      <td>Southbury</td>\n",
       "      <td>10 CONCORD CT</td>\n",
       "      <td>300250</td>\n",
       "      <td>412000.0</td>\n",
       "      <td>0.728800</td>\n",
       "      <td>Condo</td>\n",
       "      <td>appartments</td>\n",
       "    </tr>\n",
       "    <tr>\n",
       "      <th>183273</th>\n",
       "      <td>19200</td>\n",
       "      <td>2019</td>\n",
       "      <td>6/29/2020</td>\n",
       "      <td>Monroe</td>\n",
       "      <td>39 FARM VIEW RD</td>\n",
       "      <td>238400</td>\n",
       "      <td>377400.0</td>\n",
       "      <td>0.631700</td>\n",
       "      <td>Single Family</td>\n",
       "      <td>single-residence</td>\n",
       "    </tr>\n",
       "    <tr>\n",
       "      <th>183274</th>\n",
       "      <td>190480</td>\n",
       "      <td>2019</td>\n",
       "      <td>2/25/2020</td>\n",
       "      <td>New Haven</td>\n",
       "      <td>498 HOWARD AV</td>\n",
       "      <td>110740</td>\n",
       "      <td>248000.0</td>\n",
       "      <td>0.446500</td>\n",
       "      <td>Two Family</td>\n",
       "      <td>duplex-residence</td>\n",
       "    </tr>\n",
       "    <tr>\n",
       "      <th>183275</th>\n",
       "      <td>19022</td>\n",
       "      <td>2019</td>\n",
       "      <td>10/17/2019</td>\n",
       "      <td>Watertown</td>\n",
       "      <td>305 BEACH AVE</td>\n",
       "      <td>192800</td>\n",
       "      <td>235000.0</td>\n",
       "      <td>0.820400</td>\n",
       "      <td>Single Family</td>\n",
       "      <td>single-residence</td>\n",
       "    </tr>\n",
       "  </tbody>\n",
       "</table>\n",
       "<p>143967 rows × 10 columns</p>\n",
       "</div>"
      ],
      "text/plain": [
       "        Serial Number  List Year Date Recorded        Town  \\\n",
       "0              160091       2016    12/23/2016        Avon   \n",
       "1              160172       2016     4/13/2017      Bethel   \n",
       "2              160258       2016     6/29/2017      Bethel   \n",
       "5              160103       2016    11/30/2016    Branford   \n",
       "6              167930       2016     9/27/2017  Bridgeport   \n",
       "...               ...        ...           ...         ...   \n",
       "183270         190120       2019     4/28/2020  Rocky Hill   \n",
       "183271         190460       2019     8/17/2020   Southbury   \n",
       "183273          19200       2019     6/29/2020      Monroe   \n",
       "183274         190480       2019     2/25/2020   New Haven   \n",
       "183275          19022       2019    10/17/2019   Watertown   \n",
       "\n",
       "                       Address  Assessed Value  Sale Amount  Sales Ratio  \\\n",
       "0                   2 EDGEWOOD          143390     224000.0     0.640134   \n",
       "1          66 H NASHVILLE ROAD           80500     130000.0     0.619231   \n",
       "2            1 EAGLE ROCK HILL          117180     200000.0     0.585900   \n",
       "5              137 PEDDLARS DR          106700     155000.0     0.688387   \n",
       "6                 95 LANCE CIR          105820     148000.0     0.715000   \n",
       "...                        ...             ...          ...          ...   \n",
       "183270  174 VALLEY CREST DRIVE          174650     242000.0     0.721700   \n",
       "183271           10 CONCORD CT          300250     412000.0     0.728800   \n",
       "183273         39 FARM VIEW RD          238400     377400.0     0.631700   \n",
       "183274           498 HOWARD AV          110740     248000.0     0.446500   \n",
       "183275           305 BEACH AVE          192800     235000.0     0.820400   \n",
       "\n",
       "        Property Type  Residential Type  \n",
       "0               Condo       appartments  \n",
       "1               Condo       appartments  \n",
       "2               Condo       appartments  \n",
       "5               Condo       appartments  \n",
       "6               Condo       appartments  \n",
       "...               ...               ...  \n",
       "183270  Single Family  single-residence  \n",
       "183271          Condo       appartments  \n",
       "183273  Single Family  single-residence  \n",
       "183274     Two Family  duplex-residence  \n",
       "183275  Single Family  single-residence  \n",
       "\n",
       "[143967 rows x 10 columns]"
      ]
     },
     "execution_count": 37,
     "metadata": {},
     "output_type": "execute_result"
    }
   ],
   "source": [
    "real_estate"
   ]
  },
  {
   "cell_type": "code",
   "execution_count": 38,
   "id": "b83639db-d4af-43ab-bede-90817297f5aa",
   "metadata": {},
   "outputs": [],
   "source": [
    "final_file  = os.path.join(processed_dir,'real_estate_cleaned.csv')\n",
    "real_estate.to_csv(final_file, index=False)"
   ]
  },
  {
   "cell_type": "code",
   "execution_count": null,
   "id": "5fc2d081-4477-43aa-b428-efe5e97dc918",
   "metadata": {},
   "outputs": [],
   "source": []
  }
 ],
 "metadata": {
  "kernelspec": {
   "display_name": "Python 3 (ipykernel)",
   "language": "python",
   "name": "python3"
  },
  "language_info": {
   "codemirror_mode": {
    "name": "ipython",
    "version": 3
   },
   "file_extension": ".py",
   "mimetype": "text/x-python",
   "name": "python",
   "nbconvert_exporter": "python",
   "pygments_lexer": "ipython3",
   "version": "3.11.7"
  }
 },
 "nbformat": 4,
 "nbformat_minor": 5
}
