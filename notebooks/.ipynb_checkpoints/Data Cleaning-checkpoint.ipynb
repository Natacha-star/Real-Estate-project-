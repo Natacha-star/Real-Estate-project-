{
 "cells": [
  {
   "cell_type": "markdown",
   "id": "8cf62c7a-d832-4e95-baa9-d16708604e4b",
   "metadata": {},
   "source": [
    "## Real Estate Dataset - Data Cleaning and Preprocessing \n",
    "\n",
    " This notebok is focused on the data preparation cleaning and preprocessing Real Estate Dataset"
   ]
  },
  {
   "cell_type": "code",
   "execution_count": 2,
   "id": "90acd4f3-5478-4c2f-92ac-5120e2515786",
   "metadata": {},
   "outputs": [],
   "source": [
    "import pandas as pd \n",
    "import numpy as np \n",
    "import os "
   ]
  },
  {
   "cell_type": "markdown",
   "id": "1ad4ad85-78e9-4b33-8845-a9f36296f075",
   "metadata": {},
   "source": [
    "## Define and Create Paths"
   ]
  },
  {
   "cell_type": "code",
   "execution_count": 3,
   "id": "a1e3d3be-589d-45b8-b718-03db0bc54850",
   "metadata": {},
   "outputs": [],
   "source": [
    "# Get working directory \n",
    "current_dir = os.getcwd()\n",
    "\n",
    "# Go one directory up to the root directory \n",
    "project_root_dir = os.path.dirname(current_dir)\n",
    "\n",
    "data_dir = os.path.join(project_root_dir, 'data')\n",
    "raw_dir = os.path.join(data_dir,'raw')\n",
    "processed_dir = os.path.join(data_dir,'processed')\n",
    "\n",
    "# Define paths to results folder \n",
    "results_dir = os.path.join(project_root_dir,'results')\n",
    "\n",
    "# Define paths to docs folder \n",
    "docs_dir = os.path.join(project_root_dir,'docs') \n",
    "\n",
    "#Create directories if they do not exist \n",
    "os.makedirs(raw_dir,exist_ok= True)\n",
    "os.makedirs(processed_dir,exist_ok= True)\n",
    "os.makedirs(results_dir,exist_ok= True)\n",
    "os.makedirs(data_dir,exist_ok= True)"
   ]
  },
  {
   "cell_type": "markdown",
   "id": "08af6723-bc48-41ab-a656-20fd5a02800e",
   "metadata": {},
   "source": [
    " ## Read in the data"
   ]
  },
  {
   "cell_type": "code",
   "execution_count": 9,
   "id": "6e43c662-6f59-4893-95f6-0961e34de14f",
   "metadata": {},
   "outputs": [
    {
     "data": {
      "text/html": [
       "<div>\n",
       "<style scoped>\n",
       "    .dataframe tbody tr th:only-of-type {\n",
       "        vertical-align: middle;\n",
       "    }\n",
       "\n",
       "    .dataframe tbody tr th {\n",
       "        vertical-align: top;\n",
       "    }\n",
       "\n",
       "    .dataframe thead th {\n",
       "        text-align: right;\n",
       "    }\n",
       "</style>\n",
       "<table border=\"1\" class=\"dataframe\">\n",
       "  <thead>\n",
       "    <tr style=\"text-align: right;\">\n",
       "      <th></th>\n",
       "      <th>Serial Number</th>\n",
       "      <th>List Year</th>\n",
       "      <th>Date Recorded</th>\n",
       "      <th>Town</th>\n",
       "      <th>Address</th>\n",
       "      <th>Assessed Value</th>\n",
       "      <th>Sale Amount</th>\n",
       "      <th>Sales Ratio</th>\n",
       "      <th>Property Type</th>\n",
       "      <th>Residential Type</th>\n",
       "    </tr>\n",
       "  </thead>\n",
       "  <tbody>\n",
       "    <tr>\n",
       "      <th>0</th>\n",
       "      <td>160091</td>\n",
       "      <td>2016</td>\n",
       "      <td>12/23/2016</td>\n",
       "      <td>Avon</td>\n",
       "      <td>2 EDGEWOOD</td>\n",
       "      <td>143390</td>\n",
       "      <td>224000.0</td>\n",
       "      <td>0.640134</td>\n",
       "      <td>Condo</td>\n",
       "      <td>Condo</td>\n",
       "    </tr>\n",
       "    <tr>\n",
       "      <th>1</th>\n",
       "      <td>160172</td>\n",
       "      <td>2016</td>\n",
       "      <td>4/13/2017</td>\n",
       "      <td>Bethel</td>\n",
       "      <td>66 H NASHVILLE ROAD</td>\n",
       "      <td>80500</td>\n",
       "      <td>130000.0</td>\n",
       "      <td>0.619231</td>\n",
       "      <td>Condo</td>\n",
       "      <td>Condo</td>\n",
       "    </tr>\n",
       "    <tr>\n",
       "      <th>2</th>\n",
       "      <td>160258</td>\n",
       "      <td>2016</td>\n",
       "      <td>6/29/2017</td>\n",
       "      <td>Bethel</td>\n",
       "      <td>1 EAGLE ROCK HILL</td>\n",
       "      <td>117180</td>\n",
       "      <td>200000.0</td>\n",
       "      <td>0.585900</td>\n",
       "      <td>Condo</td>\n",
       "      <td>Condo</td>\n",
       "    </tr>\n",
       "    <tr>\n",
       "      <th>3</th>\n",
       "      <td>16233</td>\n",
       "      <td>2016</td>\n",
       "      <td>6/9/2017</td>\n",
       "      <td>Darien</td>\n",
       "      <td>54 KENSETT LANE</td>\n",
       "      <td>887600</td>\n",
       "      <td>1495000.0</td>\n",
       "      <td>0.593712</td>\n",
       "      <td>Condo</td>\n",
       "      <td>Condo</td>\n",
       "    </tr>\n",
       "    <tr>\n",
       "      <th>4</th>\n",
       "      <td>1600249</td>\n",
       "      <td>2016</td>\n",
       "      <td>5/12/2017</td>\n",
       "      <td>Guilford</td>\n",
       "      <td>66-10 HIGH ST</td>\n",
       "      <td>409250</td>\n",
       "      <td>665000.0</td>\n",
       "      <td>0.615414</td>\n",
       "      <td>Condo</td>\n",
       "      <td>Condo</td>\n",
       "    </tr>\n",
       "    <tr>\n",
       "      <th>5</th>\n",
       "      <td>160103</td>\n",
       "      <td>2016</td>\n",
       "      <td>11/30/2016</td>\n",
       "      <td>Branford</td>\n",
       "      <td>137 PEDDLARS DR</td>\n",
       "      <td>106700</td>\n",
       "      <td>155000.0</td>\n",
       "      <td>0.688387</td>\n",
       "      <td>Condo</td>\n",
       "      <td>Condo</td>\n",
       "    </tr>\n",
       "    <tr>\n",
       "      <th>6</th>\n",
       "      <td>167930</td>\n",
       "      <td>2016</td>\n",
       "      <td>9/27/2017</td>\n",
       "      <td>Bridgeport</td>\n",
       "      <td>95 LANCE CIR</td>\n",
       "      <td>105820</td>\n",
       "      <td>148000.0</td>\n",
       "      <td>0.715000</td>\n",
       "      <td>Condo</td>\n",
       "      <td>Condo</td>\n",
       "    </tr>\n",
       "    <tr>\n",
       "      <th>7</th>\n",
       "      <td>16533</td>\n",
       "      <td>2016</td>\n",
       "      <td>8/3/2017</td>\n",
       "      <td>Newington</td>\n",
       "      <td>239 STERLING DR</td>\n",
       "      <td>238150</td>\n",
       "      <td>331100.0</td>\n",
       "      <td>0.719269</td>\n",
       "      <td>Condo</td>\n",
       "      <td>Condo</td>\n",
       "    </tr>\n",
       "    <tr>\n",
       "      <th>8</th>\n",
       "      <td>16005</td>\n",
       "      <td>2016</td>\n",
       "      <td>10/11/2016</td>\n",
       "      <td>Durham</td>\n",
       "      <td>83 STAGECOACH RD</td>\n",
       "      <td>114590</td>\n",
       "      <td>160000.0</td>\n",
       "      <td>0.716187</td>\n",
       "      <td>Condo</td>\n",
       "      <td>Condo</td>\n",
       "    </tr>\n",
       "    <tr>\n",
       "      <th>9</th>\n",
       "      <td>160239</td>\n",
       "      <td>2016</td>\n",
       "      <td>6/9/2017</td>\n",
       "      <td>New Canaan</td>\n",
       "      <td>29 MAPLE ST #3</td>\n",
       "      <td>388640</td>\n",
       "      <td>436000.0</td>\n",
       "      <td>0.891376</td>\n",
       "      <td>Condo</td>\n",
       "      <td>Condo</td>\n",
       "    </tr>\n",
       "  </tbody>\n",
       "</table>\n",
       "</div>"
      ],
      "text/plain": [
       "   Serial Number  List Year Date Recorded        Town              Address  \\\n",
       "0         160091       2016    12/23/2016        Avon           2 EDGEWOOD   \n",
       "1         160172       2016     4/13/2017      Bethel  66 H NASHVILLE ROAD   \n",
       "2         160258       2016     6/29/2017      Bethel    1 EAGLE ROCK HILL   \n",
       "3          16233       2016      6/9/2017      Darien      54 KENSETT LANE   \n",
       "4        1600249       2016     5/12/2017    Guilford        66-10 HIGH ST   \n",
       "5         160103       2016    11/30/2016    Branford      137 PEDDLARS DR   \n",
       "6         167930       2016     9/27/2017  Bridgeport         95 LANCE CIR   \n",
       "7          16533       2016      8/3/2017   Newington      239 STERLING DR   \n",
       "8          16005       2016    10/11/2016      Durham     83 STAGECOACH RD   \n",
       "9         160239       2016      6/9/2017  New Canaan       29 MAPLE ST #3   \n",
       "\n",
       "   Assessed Value  Sale Amount  Sales Ratio Property Type Residential Type  \n",
       "0          143390     224000.0     0.640134         Condo            Condo  \n",
       "1           80500     130000.0     0.619231         Condo            Condo  \n",
       "2          117180     200000.0     0.585900         Condo            Condo  \n",
       "3          887600    1495000.0     0.593712         Condo            Condo  \n",
       "4          409250     665000.0     0.615414         Condo            Condo  \n",
       "5          106700     155000.0     0.688387         Condo            Condo  \n",
       "6          105820     148000.0     0.715000         Condo            Condo  \n",
       "7          238150     331100.0     0.719269         Condo            Condo  \n",
       "8          114590     160000.0     0.716187         Condo            Condo  \n",
       "9          388640     436000.0     0.891376         Condo            Condo  "
      ]
     },
     "execution_count": 9,
     "metadata": {},
     "output_type": "execute_result"
    }
   ],
   "source": [
    "real_estate_filename = os.path.join(raw_dir, 'Real_Estate_Sales_2016-2019_GL.csv')\n",
    "real_estate = pd.read_csv(real_estate_filename, na_values='?',low_memory=False, skipinitialspace= True)\n",
    "# Reading dataset with its header\n",
    "real_estate.head(10)"
   ]
  },
  {
   "cell_type": "code",
   "execution_count": 6,
   "id": "bc5980c4-ac65-4298-93bd-3a11e099ced4",
   "metadata": {},
   "outputs": [
    {
     "data": {
      "text/plain": [
       "(183278, 10)"
      ]
     },
     "execution_count": 6,
     "metadata": {},
     "output_type": "execute_result"
    }
   ],
   "source": [
    "real_estate.shape"
   ]
  },
  {
   "cell_type": "code",
   "execution_count": 7,
   "id": "27961bfa-5f87-427a-9caa-51afe01bc3b7",
   "metadata": {},
   "outputs": [
    {
     "name": "stdout",
     "output_type": "stream",
     "text": [
      "<class 'pandas.core.frame.DataFrame'>\n",
      "RangeIndex: 183278 entries, 0 to 183277\n",
      "Data columns (total 10 columns):\n",
      " #   Column  Non-Null Count   Dtype \n",
      "---  ------  --------------   ----- \n",
      " 0   0       183278 non-null  object\n",
      " 1   1       183278 non-null  object\n",
      " 2   2       183278 non-null  object\n",
      " 3   3       183278 non-null  object\n",
      " 4   4       183275 non-null  object\n",
      " 5   5       183278 non-null  object\n",
      " 6   6       183278 non-null  object\n",
      " 7   7       183278 non-null  object\n",
      " 8   8       183278 non-null  object\n",
      " 9   9       183278 non-null  object\n",
      "dtypes: object(10)\n",
      "memory usage: 14.0+ MB\n"
     ]
    }
   ],
   "source": [
    "real_estate.info()"
   ]
  },
  {
   "cell_type": "code",
   "execution_count": 10,
   "id": "4689d472-3aff-412d-923a-2ce44a611771",
   "metadata": {},
   "outputs": [
    {
     "data": {
      "text/plain": [
       "Index(['Serial Number', 'List Year', 'Date Recorded', 'Town', 'Address',\n",
       "       'Assessed Value', 'Sale Amount', 'Sales Ratio', 'Property Type',\n",
       "       'Residential Type'],\n",
       "      dtype='object')"
      ]
     },
     "execution_count": 10,
     "metadata": {},
     "output_type": "execute_result"
    }
   ],
   "source": [
    "real_estate.columns"
   ]
  },
  {
   "cell_type": "markdown",
   "id": "51e363b9-4b2f-48fa-830e-1d978995635b",
   "metadata": {},
   "source": [
    "## Data Cleaning\n"
   ]
  },
  {
   "cell_type": "markdown",
   "id": "8f645b25-06fd-429c-b124-89f0400b676c",
   "metadata": {},
   "source": [
    "## understanding the datasets\n",
    "This dataset contains records of residential property sales, including details such as location, assessed value, sale amount, and property type. The data can be used to analyze property values, sale prices, and sales ratios across different towns and residential property types.\n",
    "- Serial Number: represents  the unique number for each recorded property\n",
    "- List Year: Represents the period of recording as we know it is for 3 years 2016-2019\n",
    "- Date Recorded: this represents the actual date that a transaction took place\n",
    "- Town: represents a specific towm in USA\n",
    "- Address: uniquely identifies property location\n",
    "- Assessed Value : The value estimated for tax or official purposes\n",
    "- Sale Amount: The actual price the property was sold for\n",
    "- Sales Ratio: The ratio of assessed value to sale amount\n",
    "- Property Type:  Indicates the property is residential\n",
    "-  Residential Type: The type of residential property (e.g. single-family, condo) "
   ]
  },
  {
   "cell_type": "code",
   "execution_count": 17,
   "id": "652db1d7-1e7f-499b-814b-83426b5a8ad0",
   "metadata": {},
   "outputs": [],
   "source": [
    "# np.unique(real_estate.Town.to_list())"
   ]
  },
  {
   "cell_type": "code",
   "execution_count": 16,
   "id": "c0f0783a-211e-4513-a6c9-e8f01e5e9e5f",
   "metadata": {},
   "outputs": [
    {
     "name": "stdout",
     "output_type": "stream",
     "text": [
      "Unique values in 'Serial Number': [       161        162        163 ...  190700026  192000007 1710011174]\n",
      "\n",
      "Unique values in 'List Year': [2016 2017 2018 2019]\n",
      "\n",
      "Unique values in 'Date Recorded': ['1/1/2018' '1/1/2019' '1/10/2017' ... '9/9/2018' '9/9/2019' '9/9/2020']\n",
      "\n",
      "Unique values in 'Town': ['Andover' 'Ansonia' 'Ashford' 'Avon' 'Barkhamsted' 'Beacon Falls'\n",
      " 'Berlin' 'Bethany' 'Bethel' 'Bethlehem' 'Bloomfield' 'Bolton' 'Bozrah'\n",
      " 'Branford' 'Bridgeport' 'Bridgewater' 'Bristol' 'Brookfield' 'Brooklyn'\n",
      " 'Burlington' 'Canaan' 'Canterbury' 'Canton' 'Chaplin' 'Cheshire'\n",
      " 'Chester' 'Clinton' 'Colchester' 'Colebrook' 'Columbia' 'Cornwall'\n",
      " 'Coventry' 'Cromwell' 'Danbury' 'Darien' 'Deep River' 'Derby' 'Durham'\n",
      " 'East Granby' 'East Haddam' 'East Hampton' 'East Hartford' 'East Haven'\n",
      " 'East Lyme' 'East Windsor' 'Eastford' 'Easton' 'Ellington' 'Enfield'\n",
      " 'Essex' 'Fairfield' 'Farmington' 'Franklin' 'Glastonbury' 'Goshen'\n",
      " 'Granby' 'Greenwich' 'Griswold' 'Groton' 'Guilford' 'Haddam' 'Hamden'\n",
      " 'Hampton' 'Hartford' 'Hartland' 'Harwinton' 'Hebron' 'Kent' 'Killingly'\n",
      " 'Killingworth' 'Lebanon' 'Ledyard' 'Lisbon' 'Litchfield' 'Lyme' 'Madison'\n",
      " 'Manchester' 'Mansfield' 'Marlborough' 'Meriden' 'Middlebury'\n",
      " 'Middlefield' 'Middletown' 'Milford' 'Monroe' 'Montville' 'Morris'\n",
      " 'Naugatuck' 'New Britain' 'New Canaan' 'New Fairfield' 'New Hartford'\n",
      " 'New Haven' 'New London' 'New Milford' 'Newington' 'Newtown' 'Norfolk'\n",
      " 'North Branford' 'North Canaan' 'North Haven' 'North Stonington'\n",
      " 'Norwalk' 'Norwich' 'Old Lyme' 'Old Saybrook' 'Orange' 'Oxford'\n",
      " 'Plainfield' 'Plainville' 'Plymouth' 'Pomfret' 'Portland' 'Preston'\n",
      " 'Prospect' 'Putnam' 'Redding' 'Ridgefield' 'Rocky Hill' 'Roxbury' 'Salem'\n",
      " 'Salisbury' 'Scotland' 'Seymour' 'Sharon' 'Shelton' 'Sherman' 'Simsbury'\n",
      " 'Somers' 'South Windsor' 'Southbury' 'Southington' 'Sprague' 'Stafford'\n",
      " 'Stamford' 'Sterling' 'Stonington' 'Stratford' 'Suffield' 'Thomaston'\n",
      " 'Thompson' 'Tolland' 'Torrington' 'Trumbull' 'Union' 'Vernon' 'Voluntown'\n",
      " 'Wallingford' 'Warren' 'Washington' 'Waterbury' 'Waterford' 'Watertown'\n",
      " 'West Hartford' 'West Haven' 'Westbrook' 'Weston' 'Westport'\n",
      " 'Wethersfield' 'Willington' 'Wilton' 'Winchester' 'Windham' 'Windsor'\n",
      " 'Windsor Locks' 'Wolcott' 'Woodbridge' 'Woodbury' 'Woodstock']\n",
      "\n",
      "Unique values in 'Address': ['#27 DUCK ISLAND YACHT CLUB' '0 & 91 SHELTER COVE RD'\n",
      " '0 ALDEN STREET UNIT A' ... 'YON COMIS ISLAND' 'Z-97 CROSSROADS LN' 'nan']\n",
      "\n",
      "Unique values in 'Assessed Value': [        0       100       280 ...  59120250  59798900 881510000]\n",
      "\n",
      "Unique values in 'Sale Amount': [0.00000e+00 1.00000e+00 1.00000e+01 ... 4.75245e+07 4.80000e+07\n",
      " 1.57000e+08]\n",
      "\n",
      "Unique values in 'Sales Ratio': [0.0000e+00 3.0000e-04 5.0000e-04 ... 1.0328e+04 1.4317e+05 2.4191e+05]\n",
      "\n",
      "Unique values in 'Property Type': ['Condo' 'Four Family' 'Single Family' 'Three Family' 'Two Family']\n",
      "\n",
      "Unique values in 'Residential Type': ['Condo' 'Four Family' 'Single Family' 'Three Family' 'Two Family']\n",
      "\n"
     ]
    }
   ],
   "source": [
    "for col in real_estate.columns:\n",
    "    uniques = np.unique(real_estate[col].to_list())\n",
    "    print(f\"Unique values in '{col}': {uniques}\\n\")\n"
   ]
  },
  {
   "cell_type": "markdown",
   "id": "0ec118a2-c723-4319-b441-c011446a9eec",
   "metadata": {},
   "source": [
    "### 2. Dealing with Missing Values"
   ]
  },
  {
   "cell_type": "code",
   "execution_count": 18,
   "id": "83e66b82-1706-4089-8001-b22ac16ac55a",
   "metadata": {},
   "outputs": [
    {
     "data": {
      "text/plain": [
       "Serial Number       0\n",
       "List Year           0\n",
       "Date Recorded       0\n",
       "Town                0\n",
       "Address             3\n",
       "Assessed Value      0\n",
       "Sale Amount         0\n",
       "Sales Ratio         0\n",
       "Property Type       0\n",
       "Residential Type    0\n",
       "dtype: int64"
      ]
     },
     "execution_count": 18,
     "metadata": {},
     "output_type": "execute_result"
    }
   ],
   "source": [
    "real_estate.isnull().sum()"
   ]
  },
  {
   "cell_type": "code",
   "execution_count": 20,
   "id": "16ea5cea-c1fb-490d-b0f0-5b797296108d",
   "metadata": {},
   "outputs": [],
   "source": [
    "real_estate['Address'] = real_estate['Address'].fillna('unknown')"
   ]
  },
  {
   "cell_type": "code",
   "execution_count": 21,
   "id": "55567c68-d2c6-41e8-b2ac-585e750c524a",
   "metadata": {},
   "outputs": [
    {
     "data": {
      "text/plain": [
       "Serial Number       0\n",
       "List Year           0\n",
       "Date Recorded       0\n",
       "Town                0\n",
       "Address             0\n",
       "Assessed Value      0\n",
       "Sale Amount         0\n",
       "Sales Ratio         0\n",
       "Property Type       0\n",
       "Residential Type    0\n",
       "dtype: int64"
      ]
     },
     "execution_count": 21,
     "metadata": {},
     "output_type": "execute_result"
    }
   ],
   "source": [
    "real_estate.isnull().sum()"
   ]
  },
  {
   "cell_type": "markdown",
   "id": "a3f9ebf3-74d4-4a4a-a96e-65ced423e991",
   "metadata": {},
   "source": [
    "### 3. Deal with Duplicates"
   ]
  },
  {
   "cell_type": "code",
   "execution_count": 22,
   "id": "86fc267f-742f-4418-8074-1932e01d279a",
   "metadata": {},
   "outputs": [
    {
     "data": {
      "text/plain": [
       "0"
      ]
     },
     "execution_count": 22,
     "metadata": {},
     "output_type": "execute_result"
    }
   ],
   "source": [
    "real_estate.duplicated().sum()"
   ]
  },
  {
   "cell_type": "code",
   "execution_count": 33,
   "id": "d0849fe0-bb22-4fcb-9b5d-76e2375aa4e1",
   "metadata": {},
   "outputs": [
    {
     "data": {
      "text/plain": [
       "array(['Condo', 'Single Family', 'Two Family', 'Three Family',\n",
       "       'Four Family'], dtype=object)"
      ]
     },
     "execution_count": 33,
     "metadata": {},
     "output_type": "execute_result"
    }
   ],
   "source": [
    "real_estate['Residential Category'].unique()"
   ]
  },
  {
   "cell_type": "code",
   "execution_count": 34,
   "id": "923f8b29-bc49-49ba-9b12-9c82382d1ee0",
   "metadata": {},
   "outputs": [],
   "source": [
    "real_estate['Residential Category'] = real_estate['Residential Category'].replace({\n",
    "    'Condo': 'appartments',\n",
    "    'Single Family': 'single-residence',\n",
    "    'Two Family': 'duplex-residence',\n",
    "    'Three Family': 'triplex-residence',\n",
    "    'Four Family': 'quadplex-residence'\n",
    "     \n",
    "})"
   ]
  },
  {
   "cell_type": "code",
   "execution_count": 35,
   "id": "1797bb3c-f68e-492c-a0e5-c794e22aaffd",
   "metadata": {},
   "outputs": [
    {
     "data": {
      "text/plain": [
       "array(['appartments', 'single-residence', 'duplex-residence',\n",
       "       'triplex-residence', 'quadplex-residence'], dtype=object)"
      ]
     },
     "execution_count": 35,
     "metadata": {},
     "output_type": "execute_result"
    }
   ],
   "source": [
    "real_estate['Residential Category'].unique()\n"
   ]
  },
  {
   "cell_type": "code",
   "execution_count": 26,
   "id": "cbb24f8e-b4c4-41e8-98c2-435fc80a05fc",
   "metadata": {},
   "outputs": [],
   "source": [
    "real_estate = real_estate.rename(columns={'Residential Type': 'Residential Category'})\n"
   ]
  },
  {
   "cell_type": "code",
   "execution_count": 36,
   "id": "4bd6a93e-c24d-4eea-8b16-ce1a0801313b",
   "metadata": {},
   "outputs": [
    {
     "data": {
      "text/plain": [
       "array(['appartments', 'single-residence', 'duplex-residence',\n",
       "       'triplex-residence', 'quadplex-residence'], dtype=object)"
      ]
     },
     "execution_count": 36,
     "metadata": {},
     "output_type": "execute_result"
    }
   ],
   "source": [
    "real_estate['Residential Category'].unique()"
   ]
  },
  {
   "cell_type": "code",
   "execution_count": 37,
   "id": "b83639db-d4af-43ab-bede-90817297f5aa",
   "metadata": {},
   "outputs": [],
   "source": [
    "final_file  = os.path.join(processed_dir,'real_estate_cleaned.csv')\n",
    "real_estate.to_csv(final_file, index=False)"
   ]
  },
  {
   "cell_type": "code",
   "execution_count": null,
   "id": "a0f8224f-cdb1-40e3-9e95-12a1220642c8",
   "metadata": {},
   "outputs": [],
   "source": []
  }
 ],
 "metadata": {
  "kernelspec": {
   "display_name": "Python 3 (ipykernel)",
   "language": "python",
   "name": "python3"
  },
  "language_info": {
   "codemirror_mode": {
    "name": "ipython",
    "version": 3
   },
   "file_extension": ".py",
   "mimetype": "text/x-python",
   "name": "python",
   "nbconvert_exporter": "python",
   "pygments_lexer": "ipython3",
   "version": "3.11.7"
  }
 },
 "nbformat": 4,
 "nbformat_minor": 5
}
